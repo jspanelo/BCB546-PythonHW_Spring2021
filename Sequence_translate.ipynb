{
 "cells": [
  {
   "cell_type": "markdown",
   "metadata": {},
   "source": [
    "# Python Translate Script\n",
    "##### IMPORTANT: install BioPython so that this will work"
   ]
  },
  {
   "cell_type": "code",
   "execution_count": 1,
   "metadata": {},
   "outputs": [],
   "source": [
    "from Bio import SeqIO\n",
    "from Bio.Data import CodonTable\n",
    "from Bio.Seq import Seq\n",
    "from Bio.SeqUtils.ProtParam import ProteinAnalysis\n",
    "import pandas as pd\n",
    "import matplotlib.pyplot as plt\n",
    "import seaborn as sns"
   ]
  },
  {
   "cell_type": "markdown",
   "metadata": {},
   "source": [
    "# Functions\n",
    "\n",
    "### 1. Dr. X: this gets sequences. \n",
    "### Please finish documenting this function with comments, or in notebook markdown text. Your descriptions of all functions should contain information about what the function does, as well as information about the return types and arguments."
   ]
  },
  {
   "cell_type": "code",
   "execution_count": 2,
   "metadata": {},
   "outputs": [],
   "source": [
    "def get_sequences_from_file(fasta_fn):\n",
    "    \"\"\"Descrption of get_sequences_from_file() function\n",
    "    \n",
    "    Creates a dictionary.\n",
    "    Populates the dictionary iterating trough a FASTA file.\n",
    "        From each identifier, gets the species name as a key, and the nucleotide sequence as a value.\n",
    "    \n",
    "    Parameters:\n",
    "        fasta_fn : a FASTA file, \n",
    "                        * a header line starting with a '>' followed by descriptions\n",
    "                        * string of nucleotides starting in the second line\n",
    "    Return:\n",
    "        A dictionary of sequences.\n",
    "                        * dict.key() as 'species_name' parses the second and the third element from the header line\n",
    "                        * dict.values() as 'record.seq' is a Bio.Seq element which is the dna sequence for each identifier   \n",
    "    \"\"\"\n",
    "    sequence_data_dict = {}                                    # creates an empty diccionary\n",
    "\n",
    "    for record in SeqIO.parse(fasta_fn, \"fasta\"):              # iterates through each record in the fasta file `fasta_fn` \n",
    "\n",
    "        description = record.description.split()               # separates the record description  \n",
    "\n",
    "        species_name = description[1] + \" \" + description[2]   # parse species_name combining element 1 and 2 (second and third, Genus and species)\n",
    "        \n",
    "        sequence_data_dict[species_name] = record.seq          # add the seq() object belonging to each record [record.seq] as a dictionary value, under genus ans species information as a dictionary key. \n",
    "\n",
    "    return(sequence_data_dict)                                 # returns the complete dictionary after finishing the loop"
   ]
  },
  {
   "cell_type": "markdown",
   "metadata": {},
   "source": [
    "### 2. YOUR STRING-TRANSLATE FUNCTION ########"
   ]
  },
  {
   "cell_type": "code",
   "execution_count": 3,
   "metadata": {},
   "outputs": [],
   "source": [
    "def translate_function(dna_string):\n",
    "    \n",
    "    \"\"\"Description of translate_function \n",
    "    \n",
    "    Translates a DNA string into an aminoacid string.\n",
    "    \n",
    "    Parameters:\n",
    "        dna_string : a string of nucleotides\n",
    "    \n",
    "    Return: aa sequence for the protein coded in dna_string, as a string\n",
    "    \n",
    "    Example of usage:\n",
    "    \n",
    "        >> translate_function('GCGGCTTCATAGGAG')\n",
    "        \n",
    "        Output: \n",
    "            'AASE'\n",
    "   \n",
    "    \"\"\"\n",
    "    \n",
    "    aa_seq_string = \"\" # start aa string as an empty string\n",
    "    \n",
    "    for i in range(0, len(dna_string), 3):  # iterate through the string in steps of 3\n",
    "        \n",
    "        codon = dna_string[i: i + 3]        # subset the string from the element i to i+3, send it to `codon`\n",
    "        \n",
    "        codon_seq = Seq(codon)              # turns `codon` into a Seq() object\n",
    "        \n",
    "        # use df.translate() to translate codon into aminoacid (aa)  \n",
    "        aa = codon_seq.translate(table = \"Vertebrate Mitochondrial\", to_stop = True)\n",
    "\n",
    "        aa_seq_string += aa                 # add the last translated aa to the aa string first defined\n",
    "    \n",
    "    return str(aa_seq_string)               # return the aa sequence as a string"
   ]
  },
  {
   "cell_type": "markdown",
   "metadata": {},
   "source": [
    "### 3. Is there a better way to write the translation function? (Hint: yes there is.) Perhaps using available BioPython library utilities? Please also write this function."
   ]
  },
  {
   "cell_type": "code",
   "execution_count": 4,
   "metadata": {},
   "outputs": [],
   "source": [
    "from Bio.Seq import Seq\n",
    "def translate_to_protein(dna_string):\n",
    "    \"\"\"Description of translate_to_protein function \n",
    "    \n",
    "    Translates a DNA string into a aminoacid string when the appropriate datatype is provided, or give an error message.\n",
    "    \n",
    "    Parameters:\n",
    "        string_nucleotides : a string of nucleotides\n",
    "    \n",
    "    Return: aa sequence for the protein coded in string_nucleotides\n",
    "            Error messagge when an invalid parameter in used as input \n",
    "    \n",
    "    Example of usage:\n",
    "    \n",
    "        >> translate_to_protein('GCGGCTTCATAGGAG')\n",
    "        \n",
    "        Output: \n",
    "            AAS*E\n",
    "   \n",
    "    \"\"\"\n",
    "    if type(dna_string) == str:\n",
    "        \n",
    "        aa_seq = Seq(dna_string).translate()\n",
    "        \n",
    "        return print(aa_seq)\n",
    "    else:\n",
    "        \n",
    "        return print('Error: Invalid object')"
   ]
  },
  {
   "cell_type": "markdown",
   "metadata": {},
   "source": [
    "### 4. Write a function that calculates the molecular weight of each amino acid sequence."
   ]
  },
  {
   "cell_type": "code",
   "execution_count": 5,
   "metadata": {},
   "outputs": [],
   "source": [
    "def trans_func( dna_string ):\n",
    "    \"\"\" Decription for translation formula\n",
    "    \n",
    "    Translate a DNA string into a aminoacid string, and returns its molecular weight \n",
    "    \n",
    "    Parameters:\n",
    "        dna_string : a string of nucleotides \n",
    "    \n",
    "    Return:\n",
    "        molecular weight for the encoded protein\n",
    "    \n",
    "    Example of usage:\n",
    "        >> trans_func(\"ACGACCGGA\")\n",
    "        \n",
    "        Output: \n",
    "            277.2744\n",
    "        \n",
    "    \"\"\"\n",
    "    coding_dna = Seq( dna_string )\n",
    "    \n",
    "    aa_string = coding_dna.translate( table = \"Vertebrate Mitochondrial\", to_stop = True) \n",
    "    \n",
    "    analysed_seq = ProteinAnalysis( str( aa_string ) )\n",
    "    \n",
    "    molecular_weight = analysed_seq.molecular_weight()\n",
    "    \n",
    "    return molecular_weight"
   ]
  },
  {
   "cell_type": "markdown",
   "metadata": {},
   "source": [
    "### 5.  Write a function that calculates the GC-content (proportion of \"G\" and \"C\") of each DNA sequence and returns this value."
   ]
  },
  {
   "cell_type": "code",
   "execution_count": 6,
   "metadata": {},
   "outputs": [],
   "source": [
    "def CG_content(string_nucleotides):\n",
    "    \"\"\"Description CG content calculator\n",
    "    \n",
    "    Calculates the CG content % for a given DNA string\n",
    "    \n",
    "    Parameters:\n",
    "        string_nucleotides : a string of nucleotides or a Seq() object\n",
    "    \n",
    "    Return: CG content in the string as a percentage\n",
    "    \n",
    "    Example of usage:\n",
    "        Using a string\n",
    "        >> CG_content(\"ACGACCGGAC\")\n",
    "        \n",
    "        Output: \n",
    "            70.0\n",
    "   \n",
    "        Using a Seq() object  \n",
    "        >> ms = Seq(\"ACGGCTTACCGGAC\")\n",
    "        >> CG_content(ms)\n",
    "        \n",
    "        Output: \n",
    "            64.28571428571429   \n",
    "                \n",
    "    \"\"\"\n",
    "    nuc_string = str(string_nucleotides) # force string or Seq() object as a string\n",
    "\n",
    "    seq_up = nuc_string.upper()          # force string to be uppercase\n",
    "    \n",
    "    my_seq = Seq(seq_up)                 # turn string into a seq() object\n",
    "    \n",
    "    # calculate CG content\n",
    "    cg_count = 100*((my_seq.count(\"G\") + my_seq.count(\"C\")) /len(my_seq))\n",
    "    \n",
    "    return(cg_count) # return the percent of CG"
   ]
  },
  {
   "cell_type": "markdown",
   "metadata": {},
   "source": [
    "#   MAIN"
   ]
  },
  {
   "cell_type": "code",
   "execution_count": 7,
   "metadata": {
    "scrolled": true
   },
   "outputs": [
    {
     "data": {
      "text/html": [
       "<div>\n",
       "<style scoped>\n",
       "    .dataframe tbody tr th:only-of-type {\n",
       "        vertical-align: middle;\n",
       "    }\n",
       "\n",
       "    .dataframe tbody tr th {\n",
       "        vertical-align: top;\n",
       "    }\n",
       "\n",
       "    .dataframe thead th {\n",
       "        text-align: right;\n",
       "    }\n",
       "</style>\n",
       "<table border=\"1\" class=\"dataframe\">\n",
       "  <thead>\n",
       "    <tr style=\"text-align: right;\">\n",
       "      <th></th>\n",
       "      <th>species</th>\n",
       "      <th>mass</th>\n",
       "    </tr>\n",
       "  </thead>\n",
       "  <tbody>\n",
       "    <tr>\n",
       "      <th>0</th>\n",
       "      <td>Ursus spelaeus</td>\n",
       "      <td>550.800</td>\n",
       "    </tr>\n",
       "    <tr>\n",
       "      <th>1</th>\n",
       "      <td>Ursus arctos</td>\n",
       "      <td>203.500</td>\n",
       "    </tr>\n",
       "    <tr>\n",
       "      <th>2</th>\n",
       "      <td>Ursus thibetanus</td>\n",
       "      <td>99.714</td>\n",
       "    </tr>\n",
       "    <tr>\n",
       "      <th>3</th>\n",
       "      <td>Melursus ursinus</td>\n",
       "      <td>100.030</td>\n",
       "    </tr>\n",
       "    <tr>\n",
       "      <th>4</th>\n",
       "      <td>Ursus americanus</td>\n",
       "      <td>110.560</td>\n",
       "    </tr>\n",
       "    <tr>\n",
       "      <th>5</th>\n",
       "      <td>Helarctos malayanus</td>\n",
       "      <td>47.020</td>\n",
       "    </tr>\n",
       "    <tr>\n",
       "      <th>6</th>\n",
       "      <td>Ailuropoda melanoleuca</td>\n",
       "      <td>118.200</td>\n",
       "    </tr>\n",
       "    <tr>\n",
       "      <th>7</th>\n",
       "      <td>Tremarctos ornatus</td>\n",
       "      <td>140.700</td>\n",
       "    </tr>\n",
       "    <tr>\n",
       "      <th>8</th>\n",
       "      <td>Ursus maritimus</td>\n",
       "      <td>425.100</td>\n",
       "    </tr>\n",
       "  </tbody>\n",
       "</table>\n",
       "</div>"
      ],
      "text/plain": [
       "                  species     mass\n",
       "0          Ursus spelaeus  550.800\n",
       "1            Ursus arctos  203.500\n",
       "2        Ursus thibetanus   99.714\n",
       "3        Melursus ursinus  100.030\n",
       "4        Ursus americanus  110.560\n",
       "5     Helarctos malayanus   47.020\n",
       "6  Ailuropoda melanoleuca  118.200\n",
       "7      Tremarctos ornatus  140.700\n",
       "8         Ursus maritimus  425.100"
      ]
     },
     "execution_count": 7,
     "metadata": {},
     "output_type": "execute_result"
    }
   ],
   "source": [
    "# Use get_sequences_from_file() to creates a dictionary for the DNA sequences of the cit-b proteins of each bear species\n",
    "cytb_seqs = get_sequences_from_file(\"bears_cytb.fasta\") \n",
    "\n",
    "# Creates a pandas DataFrame reading bears_mass.csv, including species and body mass.\n",
    "bears_df = pd.read_csv(\"bears_mass.csv\") # Includes only data for body mass \n",
    "\n",
    "species_list = list(bears_df.species)    # get the list of species in the dataframe\n",
    "\n",
    "bears_df # checking the dataframe"
   ]
  },
  {
   "cell_type": "markdown",
   "metadata": {},
   "source": [
    "### 6. Add two new columns to the bears DataFrame: (1) molecular weight and (2) GC content. Set the value to 'NaN' to indicate that these cells are currently empty."
   ]
  },
  {
   "cell_type": "code",
   "execution_count": 8,
   "metadata": {},
   "outputs": [
    {
     "data": {
      "text/html": [
       "<div>\n",
       "<style scoped>\n",
       "    .dataframe tbody tr th:only-of-type {\n",
       "        vertical-align: middle;\n",
       "    }\n",
       "\n",
       "    .dataframe tbody tr th {\n",
       "        vertical-align: top;\n",
       "    }\n",
       "\n",
       "    .dataframe thead th {\n",
       "        text-align: right;\n",
       "    }\n",
       "</style>\n",
       "<table border=\"1\" class=\"dataframe\">\n",
       "  <thead>\n",
       "    <tr style=\"text-align: right;\">\n",
       "      <th></th>\n",
       "      <th>species</th>\n",
       "      <th>mass</th>\n",
       "      <th>Mol weight</th>\n",
       "      <th>CG content</th>\n",
       "    </tr>\n",
       "  </thead>\n",
       "  <tbody>\n",
       "    <tr>\n",
       "      <th>0</th>\n",
       "      <td>Ursus spelaeus</td>\n",
       "      <td>550.800</td>\n",
       "      <td>NaN</td>\n",
       "      <td>NaN</td>\n",
       "    </tr>\n",
       "    <tr>\n",
       "      <th>1</th>\n",
       "      <td>Ursus arctos</td>\n",
       "      <td>203.500</td>\n",
       "      <td>NaN</td>\n",
       "      <td>NaN</td>\n",
       "    </tr>\n",
       "    <tr>\n",
       "      <th>2</th>\n",
       "      <td>Ursus thibetanus</td>\n",
       "      <td>99.714</td>\n",
       "      <td>NaN</td>\n",
       "      <td>NaN</td>\n",
       "    </tr>\n",
       "    <tr>\n",
       "      <th>3</th>\n",
       "      <td>Melursus ursinus</td>\n",
       "      <td>100.030</td>\n",
       "      <td>NaN</td>\n",
       "      <td>NaN</td>\n",
       "    </tr>\n",
       "    <tr>\n",
       "      <th>4</th>\n",
       "      <td>Ursus americanus</td>\n",
       "      <td>110.560</td>\n",
       "      <td>NaN</td>\n",
       "      <td>NaN</td>\n",
       "    </tr>\n",
       "    <tr>\n",
       "      <th>5</th>\n",
       "      <td>Helarctos malayanus</td>\n",
       "      <td>47.020</td>\n",
       "      <td>NaN</td>\n",
       "      <td>NaN</td>\n",
       "    </tr>\n",
       "    <tr>\n",
       "      <th>6</th>\n",
       "      <td>Ailuropoda melanoleuca</td>\n",
       "      <td>118.200</td>\n",
       "      <td>NaN</td>\n",
       "      <td>NaN</td>\n",
       "    </tr>\n",
       "    <tr>\n",
       "      <th>7</th>\n",
       "      <td>Tremarctos ornatus</td>\n",
       "      <td>140.700</td>\n",
       "      <td>NaN</td>\n",
       "      <td>NaN</td>\n",
       "    </tr>\n",
       "    <tr>\n",
       "      <th>8</th>\n",
       "      <td>Ursus maritimus</td>\n",
       "      <td>425.100</td>\n",
       "      <td>NaN</td>\n",
       "      <td>NaN</td>\n",
       "    </tr>\n",
       "  </tbody>\n",
       "</table>\n",
       "</div>"
      ],
      "text/plain": [
       "                  species     mass Mol weight CG content\n",
       "0          Ursus spelaeus  550.800        NaN        NaN\n",
       "1            Ursus arctos  203.500        NaN        NaN\n",
       "2        Ursus thibetanus   99.714        NaN        NaN\n",
       "3        Melursus ursinus  100.030        NaN        NaN\n",
       "4        Ursus americanus  110.560        NaN        NaN\n",
       "5     Helarctos malayanus   47.020        NaN        NaN\n",
       "6  Ailuropoda melanoleuca  118.200        NaN        NaN\n",
       "7      Tremarctos ornatus  140.700        NaN        NaN\n",
       "8         Ursus maritimus  425.100        NaN        NaN"
      ]
     },
     "execution_count": 8,
     "metadata": {},
     "output_type": "execute_result"
    }
   ],
   "source": [
    "bears_df['Mol weight'] = 'NaN' # Creates a new column setting a common value to each element in the column\n",
    "\n",
    "bears_df['CG content'] = 'NaN'\n",
    "\n",
    "bears_df # Print df "
   ]
  },
  {
   "cell_type": "markdown",
   "metadata": {},
   "source": [
    "### 7. Write a for-loop that translates each sequence and also gets molecular weight and computes the GC content of each translated sequence and adds those data to DataFrame"
   ]
  },
  {
   "cell_type": "code",
   "execution_count": 9,
   "metadata": {},
   "outputs": [
    {
     "data": {
      "text/html": [
       "<div>\n",
       "<style scoped>\n",
       "    .dataframe tbody tr th:only-of-type {\n",
       "        vertical-align: middle;\n",
       "    }\n",
       "\n",
       "    .dataframe tbody tr th {\n",
       "        vertical-align: top;\n",
       "    }\n",
       "\n",
       "    .dataframe thead th {\n",
       "        text-align: right;\n",
       "    }\n",
       "</style>\n",
       "<table border=\"1\" class=\"dataframe\">\n",
       "  <thead>\n",
       "    <tr style=\"text-align: right;\">\n",
       "      <th></th>\n",
       "      <th>species</th>\n",
       "      <th>mass</th>\n",
       "      <th>Mol weight</th>\n",
       "      <th>CG content</th>\n",
       "    </tr>\n",
       "  </thead>\n",
       "  <tbody>\n",
       "    <tr>\n",
       "      <th>0</th>\n",
       "      <td>Ursus spelaeus</td>\n",
       "      <td>550.800</td>\n",
       "      <td>42458.8</td>\n",
       "      <td>43.7719</td>\n",
       "    </tr>\n",
       "    <tr>\n",
       "      <th>1</th>\n",
       "      <td>Ursus arctos</td>\n",
       "      <td>203.500</td>\n",
       "      <td>42414.7</td>\n",
       "      <td>43.7719</td>\n",
       "    </tr>\n",
       "    <tr>\n",
       "      <th>2</th>\n",
       "      <td>Ursus thibetanus</td>\n",
       "      <td>99.714</td>\n",
       "      <td>42306.7</td>\n",
       "      <td>45.614</td>\n",
       "    </tr>\n",
       "    <tr>\n",
       "      <th>3</th>\n",
       "      <td>Melursus ursinus</td>\n",
       "      <td>100.030</td>\n",
       "      <td>42552</td>\n",
       "      <td>45.1754</td>\n",
       "    </tr>\n",
       "    <tr>\n",
       "      <th>4</th>\n",
       "      <td>Ursus americanus</td>\n",
       "      <td>110.560</td>\n",
       "      <td>42427.7</td>\n",
       "      <td>43.9474</td>\n",
       "    </tr>\n",
       "    <tr>\n",
       "      <th>5</th>\n",
       "      <td>Helarctos malayanus</td>\n",
       "      <td>47.020</td>\n",
       "      <td>42560.9</td>\n",
       "      <td>44.2982</td>\n",
       "    </tr>\n",
       "    <tr>\n",
       "      <th>6</th>\n",
       "      <td>Ailuropoda melanoleuca</td>\n",
       "      <td>118.200</td>\n",
       "      <td>42702.2</td>\n",
       "      <td>40.7895</td>\n",
       "    </tr>\n",
       "    <tr>\n",
       "      <th>7</th>\n",
       "      <td>Tremarctos ornatus</td>\n",
       "      <td>140.700</td>\n",
       "      <td>42384.8</td>\n",
       "      <td>44.386</td>\n",
       "    </tr>\n",
       "    <tr>\n",
       "      <th>8</th>\n",
       "      <td>Ursus maritimus</td>\n",
       "      <td>425.100</td>\n",
       "      <td>42454.8</td>\n",
       "      <td>44.2982</td>\n",
       "    </tr>\n",
       "  </tbody>\n",
       "</table>\n",
       "</div>"
      ],
      "text/plain": [
       "                  species     mass Mol weight CG content\n",
       "0          Ursus spelaeus  550.800    42458.8    43.7719\n",
       "1            Ursus arctos  203.500    42414.7    43.7719\n",
       "2        Ursus thibetanus   99.714    42306.7     45.614\n",
       "3        Melursus ursinus  100.030      42552    45.1754\n",
       "4        Ursus americanus  110.560    42427.7    43.9474\n",
       "5     Helarctos malayanus   47.020    42560.9    44.2982\n",
       "6  Ailuropoda melanoleuca  118.200    42702.2    40.7895\n",
       "7      Tremarctos ornatus  140.700    42384.8     44.386\n",
       "8         Ursus maritimus  425.100    42454.8    44.2982"
      ]
     },
     "execution_count": 9,
     "metadata": {},
     "output_type": "execute_result"
    }
   ],
   "source": [
    "bears_pd = bears_df.set_index('species') # set 'species' as index to facilitate iteration  \n",
    "\n",
    "i = 'NULL'                               # set iterative variable as NULL \n",
    "\n",
    "for i in cytb_seqs.keys():               # iterate through each key (species) in the dictionary cytb_seqs  \n",
    "\n",
    "    dna_string = cytb_seqs[i]               # get the value (dna sequence, string) for the ith key in the cytb_seqs, and call it 'dna_string' \n",
    "    \n",
    "    MW = trans_func(str(dna_string))        # apply trans_func() to dna_string. Get molecular weight (float) for i and stored it as MW \n",
    "    \n",
    "    CG = CG_content(dna_string)             # apply GC_content() to dna_string. Get CG content (float) for i and stored it as CG \n",
    "    \n",
    "    bears_pd.at[i, 'CG content'] = CG       # replace 'CG content' for index (specie) i, by the ith float stored as CG\n",
    "    \n",
    "    bears_pd.at[i, 'Mol weight'] = MW       # replace 'Mol weight' for index (specie) i, by the ith float stored as MW\n",
    "    \n",
    "bears_pd = bears_pd.reset_index()        # reset the original indexes. Moves species back to a column\n",
    "\n",
    "\n",
    "bears_pd                                 # Print df"
   ]
  },
  {
   "cell_type": "markdown",
   "metadata": {},
   "source": [
    "### 8. Plot a bar-chart of the mass with the x-axes labeled with species names."
   ]
  },
  {
   "cell_type": "code",
   "execution_count": 10,
   "metadata": {},
   "outputs": [
    {
     "data": {
      "text/plain": [
       "<AxesSubplot:title={'center':'Bears body mass by species'}, xlabel='Species', ylabel='Body mass [Kg]'>"
      ]
     },
     "execution_count": 10,
     "metadata": {},
     "output_type": "execute_result"
    },
    {
     "data": {
      "image/png": "[encoded data removed]",
      "text/plain": [
       "<Figure size 432x288 with 1 Axes>"
      ]
     },
     "metadata": {
      "needs_background": "light"
     },
     "output_type": "display_data"
    }
   ],
   "source": [
    "# Barplot from seaborn\n",
    "# Barplot stored as *weights*\n",
    "\n",
    "weights = sns.barplot(\n",
    "            data = bears_pd,\n",
    "            x = 'species', \n",
    "            y = \"mass\", \n",
    "            order = bears_pd.sort_values('mass').species, # sort species by weight \n",
    "            palette = \"colorblind\")\n",
    "\n",
    "# Adjustments on axis and title \n",
    "\n",
    "plt.xticks(rotation = 45,                   # rotate labels for bars\n",
    "           horizontalalignment = 'right')   # align labels properly below each bar\n",
    "plt.xlabel('Species')\n",
    "plt.ylabel(\"Body mass [Kg]\")\n",
    "plt.title(\"Bears body mass by species\")\n",
    "weights"
   ]
  },
  {
   "cell_type": "markdown",
   "metadata": {},
   "source": [
    "#### *Q1*: What is the largest bear species? \n",
    "*Ursus spelaeus*, followed by *Ursus maritimus*.\n",
    "\n",
    "#### *Q2*: What else is interesting about this species?\n",
    "*Ursus spealaeus* is an extinct species. Is noticeable the wide diversity in body mass among species from the same genus, given the largest species is 550 kg, but the smallest in this dataset is about 100 kg (*Ursus thibetanus*). All of the other bears in the same genus correspond to species that are currently founded in nature, although some of them are endangered."
   ]
  },
  {
   "cell_type": "markdown",
   "metadata": {},
   "source": [
    "### 9. Plot a visualization of the molecular weight (y-axis) as a function of GC-content (x-axis).\n"
   ]
  },
  {
   "cell_type": "code",
   "execution_count": 11,
   "metadata": {},
   "outputs": [
    {
     "data": {
      "text/plain": [
       "Text(0.5, 1.0, 'Cytochrome b: Molecular weight vs CG content')"
      ]
     },
     "execution_count": 11,
     "metadata": {},
     "output_type": "execute_result"
    },
    {
     "data": {
      "image/png": "[encoded data removed]",
      "text/plain": [
       "<Figure size 432x288 with 1 Axes>"
      ]
     },
     "metadata": {
      "needs_background": "light"
     },
     "output_type": "display_data"
    }
   ],
   "source": [
    "# Seaborn library for creating a scatterplot\n",
    "# Scatterplot stored in the memory as CG_to_MW\n",
    "CG_to_MW = sns.scatterplot(data = bears_pd,\n",
    "                           x = \"CG content\",\n",
    "                           y = \"Mol weight\",\n",
    "                           hue = 'species',\n",
    "                           palette = \"colorblind\")\n",
    "\n",
    "# Adjustments in legends, axis and titles\n",
    "CG_to_MW.legend(title = 'Species', loc='center left', bbox_to_anchor=(1, 0.5))\n",
    "plt.xlabel('CG content [%]')\n",
    "plt.ylabel(\"Molecular weight\")\n",
    "plt.title(\"Cytochrome b: Molecular weight vs CG content\")"
   ]
  },
  {
   "cell_type": "markdown",
   "metadata": {},
   "source": [
    "\n",
    "### 10. Save the new DataFrame to a file called \"bears_mass_cytb.csv\"\n",
    "\n"
   ]
  },
  {
   "cell_type": "code",
   "execution_count": 12,
   "metadata": {},
   "outputs": [],
   "source": [
    "# df.to_csv() Pandas function for writting csv files\n",
    "\n",
    "bears_pd.to_csv(\"bears_mass_cytb.csv\", index = False) "
   ]
  },
  {
   "cell_type": "markdown",
   "metadata": {},
   "source": [
    "## 11 - BONUS ##\n",
    "## What else can we do with this dataset in Python? \n",
    "## Add functions or anything that might be interesting and fun. (optional)\n",
    "\n"
   ]
  },
  {
   "cell_type": "code",
   "execution_count": 13,
   "metadata": {},
   "outputs": [
    {
     "data": {
      "text/html": [
       "<div>\n",
       "<style scoped>\n",
       "    .dataframe tbody tr th:only-of-type {\n",
       "        vertical-align: middle;\n",
       "    }\n",
       "\n",
       "    .dataframe tbody tr th {\n",
       "        vertical-align: top;\n",
       "    }\n",
       "\n",
       "    .dataframe thead th {\n",
       "        text-align: right;\n",
       "    }\n",
       "</style>\n",
       "<table border=\"1\" class=\"dataframe\">\n",
       "  <thead>\n",
       "    <tr style=\"text-align: right;\">\n",
       "      <th></th>\n",
       "      <th>species</th>\n",
       "      <th>mass</th>\n",
       "      <th>Mol weight</th>\n",
       "      <th>CG content</th>\n",
       "    </tr>\n",
       "  </thead>\n",
       "  <tbody>\n",
       "    <tr>\n",
       "      <th>0</th>\n",
       "      <td>Ursus spelaeus</td>\n",
       "      <td>550.800</td>\n",
       "      <td>42458.8</td>\n",
       "      <td>43.7719</td>\n",
       "    </tr>\n",
       "    <tr>\n",
       "      <th>1</th>\n",
       "      <td>Ursus arctos</td>\n",
       "      <td>203.500</td>\n",
       "      <td>42414.7</td>\n",
       "      <td>43.7719</td>\n",
       "    </tr>\n",
       "    <tr>\n",
       "      <th>2</th>\n",
       "      <td>Ursus thibetanus</td>\n",
       "      <td>99.714</td>\n",
       "      <td>42306.7</td>\n",
       "      <td>45.614</td>\n",
       "    </tr>\n",
       "    <tr>\n",
       "      <th>3</th>\n",
       "      <td>Melursus ursinus</td>\n",
       "      <td>100.030</td>\n",
       "      <td>42552</td>\n",
       "      <td>45.1754</td>\n",
       "    </tr>\n",
       "    <tr>\n",
       "      <th>4</th>\n",
       "      <td>Ursus americanus</td>\n",
       "      <td>110.560</td>\n",
       "      <td>42427.7</td>\n",
       "      <td>43.9474</td>\n",
       "    </tr>\n",
       "    <tr>\n",
       "      <th>5</th>\n",
       "      <td>Helarctos malayanus</td>\n",
       "      <td>47.020</td>\n",
       "      <td>42560.9</td>\n",
       "      <td>44.2982</td>\n",
       "    </tr>\n",
       "    <tr>\n",
       "      <th>6</th>\n",
       "      <td>Ailuropoda melanoleuca</td>\n",
       "      <td>118.200</td>\n",
       "      <td>42702.2</td>\n",
       "      <td>40.7895</td>\n",
       "    </tr>\n",
       "    <tr>\n",
       "      <th>7</th>\n",
       "      <td>Tremarctos ornatus</td>\n",
       "      <td>140.700</td>\n",
       "      <td>42384.8</td>\n",
       "      <td>44.386</td>\n",
       "    </tr>\n",
       "    <tr>\n",
       "      <th>8</th>\n",
       "      <td>Ursus maritimus</td>\n",
       "      <td>425.100</td>\n",
       "      <td>42454.8</td>\n",
       "      <td>44.2982</td>\n",
       "    </tr>\n",
       "  </tbody>\n",
       "</table>\n",
       "</div>"
      ],
      "text/plain": [
       "                  species     mass Mol weight CG content\n",
       "0          Ursus spelaeus  550.800    42458.8    43.7719\n",
       "1            Ursus arctos  203.500    42414.7    43.7719\n",
       "2        Ursus thibetanus   99.714    42306.7     45.614\n",
       "3        Melursus ursinus  100.030      42552    45.1754\n",
       "4        Ursus americanus  110.560    42427.7    43.9474\n",
       "5     Helarctos malayanus   47.020    42560.9    44.2982\n",
       "6  Ailuropoda melanoleuca  118.200    42702.2    40.7895\n",
       "7      Tremarctos ornatus  140.700    42384.8     44.386\n",
       "8         Ursus maritimus  425.100    42454.8    44.2982"
      ]
     },
     "execution_count": 13,
     "metadata": {},
     "output_type": "execute_result"
    }
   ],
   "source": [
    "bears_pd"
   ]
  },
  {
   "cell_type": "code",
   "execution_count": 14,
   "metadata": {},
   "outputs": [
    {
     "data": {
      "text/plain": [
       "1"
      ]
     },
     "execution_count": 14,
     "metadata": {},
     "output_type": "execute_result"
    }
   ],
   "source": [
    "from Bio.Seq import Seq\n",
    "from Bio.SeqRecord import SeqRecord\n",
    "from Bio.Align import MultipleSeqAlignment\n",
    "align1 = MultipleSeqAlignment(\n",
    "    [\n",
    "        SeqRecord(Seq(\"ACTGCTAGCTAG\"), id=\"Alpha\"),\n",
    "        SeqRecord(Seq(\"ACT-CTAGCTAG\"), id=\"Beta\"),\n",
    "        SeqRecord(Seq(\"ACTGCTAGDTAG\"), id=\"Gamma\"),\n",
    "    ]\n",
    ")\n",
    "my_alignments = [align1]\n",
    "my_alignments\n",
    "\n",
    "from Bio import AlignIO\n",
    "AlignIO.write(my_alignments, \"my_example.phy\", \"phylip\")\n",
    "\n"
   ]
  },
  {
   "cell_type": "markdown",
   "metadata": {},
   "source": [
    "### 12. Sources of information and code\n",
    "\n",
    "Biopython Tutorial and Cookbook. http://biopython.org/DIST/docs/tutorial/Tutorial.pdf\n",
    "\n",
    "Biopython. Introduction to SeqIO. https://biopython.org/wiki/SeqIO\n",
    "\n",
    "EEOB/BCB 546: Programming with Python. https://eeob-biodata.github.io/BCB546X-python/\n",
    "\n",
    "Pandas Documentation. https://pandas.pydata.org/docs/index.html\n",
    "\n",
    "ProtParam Information page. https://biopython.org/wiki/ProtParam\n",
    "\n",
    "Seaborn Documentation. https://seaborn.pydata.org/tutorial.html"
   ]
  }
 ],
 "metadata": {
  "kernelspec": {
   "display_name": "Python 3",
   "language": "python",
   "name": "python3"
  },
  "language_info": {
   "codemirror_mode": {
    "name": "ipython",
    "version": 3
   },
   "file_extension": ".py",
   "mimetype": "text/x-python",
   "name": "python",
   "nbconvert_exporter": "python",
   "pygments_lexer": "ipython3",
   "version": "3.8.5"
  }
 },
 "nbformat": 4,
 "nbformat_minor": 4
}